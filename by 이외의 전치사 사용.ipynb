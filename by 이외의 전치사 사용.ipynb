{
 "cells": [
  {
   "cell_type": "code",
   "execution_count": null,
   "id": "5698a28b-38a5-46d6-a8fc-b0af24716ffe",
   "metadata": {},
   "outputs": [],
   "source": [
    "# Hacker's Grammar 100p"
   ]
  },
  {
   "cell_type": "code",
   "execution_count": 1,
   "id": "391a429f-cb1d-49aa-91ba-b0cb4b79a75a",
   "metadata": {},
   "outputs": [],
   "source": [
    "from termcolor import colored\n",
    "import random"
   ]
  },
  {
   "cell_type": "code",
   "execution_count": 2,
   "id": "15ff6e25-274f-442d-8f3c-dc84ad761adc",
   "metadata": {},
   "outputs": [],
   "source": [
    "dic = {\n",
    "    'be based' : 'on',\n",
    "    'be crowded' : 'with',\n",
    "    'be interested' : 'in',\n",
    "    'be known' : 'for 또는 as',\n",
    "    'be provided' : 'with',\n",
    "    'be surprised' : 'at',\n",
    "    'be composed' : 'of',\n",
    "    'be comprised' : 'of',\n",
    "    'be disappointed' : 'with',\n",
    "    'be pleased' : 'with',\n",
    "    'be satisfied' : 'with',\n",
    "    'be used' : 'for'\n",
    "}"
   ]
  },
  {
   "cell_type": "code",
   "execution_count": 3,
   "id": "0d29537e-801f-4360-abfb-5ef22c4b26e2",
   "metadata": {},
   "outputs": [
    {
     "name": "stdout",
     "output_type": "stream",
     "text": [
      "\u001b[32mbe based\u001b[0m\n"
     ]
    },
    {
     "name": "stdin",
     "output_type": "stream",
     "text": [
      " on\n"
     ]
    },
    {
     "name": "stdout",
     "output_type": "stream",
     "text": [
      "\u001b[31mon\u001b[0m\n",
      "\u001b[34m====================\u001b[0m\n",
      "\u001b[32mbe used\u001b[0m\n"
     ]
    },
    {
     "name": "stdin",
     "output_type": "stream",
     "text": [
      " for\n"
     ]
    },
    {
     "name": "stdout",
     "output_type": "stream",
     "text": [
      "\u001b[31mfor\u001b[0m\n",
      "\u001b[34m====================\u001b[0m\n",
      "\u001b[32mbe known\u001b[0m\n"
     ]
    },
    {
     "name": "stdin",
     "output_type": "stream",
     "text": [
      " as 또는 for\n"
     ]
    },
    {
     "name": "stdout",
     "output_type": "stream",
     "text": [
      "\u001b[31mfor 또는 as\u001b[0m\n",
      "\u001b[34m====================\u001b[0m\n",
      "\u001b[32mbe comprised\u001b[0m\n"
     ]
    },
    {
     "name": "stdin",
     "output_type": "stream",
     "text": [
      " of\n"
     ]
    },
    {
     "name": "stdout",
     "output_type": "stream",
     "text": [
      "\u001b[31mof\u001b[0m\n",
      "\u001b[34m====================\u001b[0m\n",
      "\u001b[32mbe composed\u001b[0m\n"
     ]
    },
    {
     "name": "stdin",
     "output_type": "stream",
     "text": [
      " of\n"
     ]
    },
    {
     "name": "stdout",
     "output_type": "stream",
     "text": [
      "\u001b[31mof\u001b[0m\n",
      "\u001b[34m====================\u001b[0m\n",
      "\u001b[32mbe disappointed\u001b[0m\n"
     ]
    },
    {
     "name": "stdin",
     "output_type": "stream",
     "text": [
      " with\n"
     ]
    },
    {
     "name": "stdout",
     "output_type": "stream",
     "text": [
      "\u001b[31mwith\u001b[0m\n",
      "\u001b[34m====================\u001b[0m\n",
      "\u001b[32mbe surprised\u001b[0m\n"
     ]
    },
    {
     "name": "stdin",
     "output_type": "stream",
     "text": [
      " at\n"
     ]
    },
    {
     "name": "stdout",
     "output_type": "stream",
     "text": [
      "\u001b[31mat\u001b[0m\n",
      "\u001b[34m====================\u001b[0m\n",
      "\u001b[32mbe provided\u001b[0m\n"
     ]
    },
    {
     "name": "stdin",
     "output_type": "stream",
     "text": [
      " with\n"
     ]
    },
    {
     "name": "stdout",
     "output_type": "stream",
     "text": [
      "\u001b[31mwith\u001b[0m\n",
      "\u001b[34m====================\u001b[0m\n",
      "\u001b[32mbe satisfied\u001b[0m\n"
     ]
    },
    {
     "name": "stdin",
     "output_type": "stream",
     "text": [
      " with\n"
     ]
    },
    {
     "name": "stdout",
     "output_type": "stream",
     "text": [
      "\u001b[31mwith\u001b[0m\n",
      "\u001b[34m====================\u001b[0m\n",
      "\u001b[32mbe crowded\u001b[0m\n"
     ]
    },
    {
     "name": "stdin",
     "output_type": "stream",
     "text": [
      " with\n"
     ]
    },
    {
     "name": "stdout",
     "output_type": "stream",
     "text": [
      "\u001b[31mwith\u001b[0m\n",
      "\u001b[34m====================\u001b[0m\n",
      "\u001b[32mbe pleased\u001b[0m\n"
     ]
    },
    {
     "name": "stdin",
     "output_type": "stream",
     "text": [
      " with\n"
     ]
    },
    {
     "name": "stdout",
     "output_type": "stream",
     "text": [
      "\u001b[31mwith\u001b[0m\n",
      "\u001b[34m====================\u001b[0m\n",
      "\u001b[32mbe interested\u001b[0m\n"
     ]
    },
    {
     "name": "stdin",
     "output_type": "stream",
     "text": [
      " in\n"
     ]
    },
    {
     "name": "stdout",
     "output_type": "stream",
     "text": [
      "\u001b[31min\u001b[0m\n",
      "\u001b[34m====================\u001b[0m\n",
      "Finish!!\n"
     ]
    }
   ],
   "source": [
    "def run():\n",
    "    keys = list(dic.keys())\n",
    "    random.shuffle(keys)\n",
    "\n",
    "    for k in keys:\n",
    "        v = dic[k]\n",
    "        print(colored(k, 'green'))\n",
    "        input()\n",
    "        print(colored(v, 'red'))\n",
    "        print(colored(\"=\"*20, 'blue'))\n",
    "\n",
    "    print(\"Finish!!\")\n",
    "run()"
   ]
  },
  {
   "cell_type": "code",
   "execution_count": null,
   "id": "cbe2aa52-39da-4cd6-96cf-43774cad5473",
   "metadata": {},
   "outputs": [],
   "source": []
  }
 ],
 "metadata": {
  "kernelspec": {
   "display_name": "Python 3 (ipykernel)",
   "language": "python",
   "name": "python3"
  },
  "language_info": {
   "codemirror_mode": {
    "name": "ipython",
    "version": 3
   },
   "file_extension": ".py",
   "mimetype": "text/x-python",
   "name": "python",
   "nbconvert_exporter": "python",
   "pygments_lexer": "ipython3",
   "version": "3.8.13"
  }
 },
 "nbformat": 4,
 "nbformat_minor": 5
}
