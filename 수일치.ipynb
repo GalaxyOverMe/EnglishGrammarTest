{
 "cells": [
  {
   "cell_type": "code",
   "execution_count": 16,
   "id": "43446609-b05f-4b6b-abbb-943d75d96506",
   "metadata": {},
   "outputs": [],
   "source": [
    "from termcolor import colored\n",
    "import random"
   ]
  },
  {
   "cell_type": "code",
   "execution_count": 17,
   "id": "862f36d8-7798-45bc-9392-784a65531f9c",
   "metadata": {},
   "outputs": [],
   "source": [
    "dic = {\n",
    "    '동명사구': '단수',\n",
    "    '명사절' : '단수',\n",
    "    'each' : '단수',\n",
    "    'every' : '단수',\n",
    "    'every-, some-, any-, no-' : '단수',\n",
    "    \n",
    "    'and' : '복수',\n",
    "    '(a) few' : '복수',\n",
    "    'both' : '복수',\n",
    "    'several' : '복수',\n",
    "    'many' : '복수',\n",
    "    \n",
    "    'There' : '단수 -> 단수, 복수 -> 복수',\n",
    "    'any' : '단수 -> 단수, 복수 -> 복수',\n",
    "    'all' : '단수 -> 단수, 복수 -> 복수',\n",
    "    'most' : '단수 -> 단수, 복수 -> 복수',\n",
    "    'none' : '단수 -> 단수, 복수 -> 복수',\n",
    "    'some' : '단수 -> 단수, 복수 -> 복수',\n",
    "    \n",
    "    'either A or B' : 'B 에 맞춤',\n",
    "    'neither A nor B' : 'B 에 맞춤',\n",
    "}"
   ]
  },
  {
   "cell_type": "code",
   "execution_count": null,
   "id": "b2cf8012-2710-4ebc-9f1c-a2a9ac5c3fc4",
   "metadata": {},
   "outputs": [],
   "source": [
    "def run():\n",
    "    keys = list(dic.keys())\n",
    "    random.shuffle(keys)\n",
    "\n",
    "    for k in keys:\n",
    "        v = dic[k]\n",
    "        print(colored(k, 'green'))\n",
    "        input()\n",
    "        print(colored(v, 'red'))\n",
    "        print(colored(\"=\"*20, 'blue'))\n",
    "\n",
    "    print(\"Finish!!\")"
   ]
  },
  {
   "cell_type": "code",
   "execution_count": null,
   "id": "5e94b83a-34be-47e7-8628-52fae7899154",
   "metadata": {},
   "outputs": [],
   "source": [
    "run"
   ]
  },
  {
   "cell_type": "code",
   "execution_count": 21,
   "id": "0d20bb48-5c36-4a71-87b1-953786137062",
   "metadata": {},
   "outputs": [
    {
     "name": "stdout",
     "output_type": "stream",
     "text": [
      "\u001b[32mThere\u001b[0m\n"
     ]
    },
    {
     "name": "stdin",
     "output_type": "stream",
     "text": [
      " 단수 -> 단수, 복수 -> 복수\n"
     ]
    },
    {
     "name": "stdout",
     "output_type": "stream",
     "text": [
      "\u001b[31m단수 -> 단수, 복수 -> 복수\u001b[0m\n",
      "\u001b[34m====================\u001b[0m\n",
      "\u001b[32mboth\u001b[0m\n"
     ]
    },
    {
     "name": "stdin",
     "output_type": "stream",
     "text": [
      " 복수\n"
     ]
    },
    {
     "name": "stdout",
     "output_type": "stream",
     "text": [
      "\u001b[31m복수\u001b[0m\n",
      "\u001b[34m====================\u001b[0m\n",
      "\u001b[32meach\u001b[0m\n"
     ]
    },
    {
     "name": "stdin",
     "output_type": "stream",
     "text": [
      " 단수\n"
     ]
    },
    {
     "name": "stdout",
     "output_type": "stream",
     "text": [
      "\u001b[31m단수\u001b[0m\n",
      "\u001b[34m====================\u001b[0m\n",
      "\u001b[32m동명사구\u001b[0m\n"
     ]
    },
    {
     "name": "stdin",
     "output_type": "stream",
     "text": [
      " 단수\n"
     ]
    },
    {
     "name": "stdout",
     "output_type": "stream",
     "text": [
      "\u001b[31m단수\u001b[0m\n",
      "\u001b[34m====================\u001b[0m\n",
      "\u001b[32m(a) few\u001b[0m\n"
     ]
    },
    {
     "name": "stdin",
     "output_type": "stream",
     "text": [
      " 복수\n"
     ]
    },
    {
     "name": "stdout",
     "output_type": "stream",
     "text": [
      "\u001b[31m복수\u001b[0m\n",
      "\u001b[34m====================\u001b[0m\n",
      "\u001b[32m명사절\u001b[0m\n"
     ]
    },
    {
     "name": "stdin",
     "output_type": "stream",
     "text": [
      " 단수\n"
     ]
    },
    {
     "name": "stdout",
     "output_type": "stream",
     "text": [
      "\u001b[31m단수\u001b[0m\n",
      "\u001b[34m====================\u001b[0m\n",
      "\u001b[32mevery-, some-, any-, no-\u001b[0m\n"
     ]
    },
    {
     "name": "stdin",
     "output_type": "stream",
     "text": [
      " 단수\n"
     ]
    },
    {
     "name": "stdout",
     "output_type": "stream",
     "text": [
      "\u001b[31m단수\u001b[0m\n",
      "\u001b[34m====================\u001b[0m\n",
      "\u001b[32meither A or B\u001b[0m\n"
     ]
    },
    {
     "name": "stdin",
     "output_type": "stream",
     "text": [
      " B에 일치\n"
     ]
    },
    {
     "name": "stdout",
     "output_type": "stream",
     "text": [
      "\u001b[31mB 에 맞춤\u001b[0m\n",
      "\u001b[34m====================\u001b[0m\n",
      "\u001b[32mand\u001b[0m\n"
     ]
    },
    {
     "name": "stdin",
     "output_type": "stream",
     "text": [
      " 복수\n"
     ]
    },
    {
     "name": "stdout",
     "output_type": "stream",
     "text": [
      "\u001b[31m복수\u001b[0m\n",
      "\u001b[34m====================\u001b[0m\n",
      "\u001b[32mneither A nor B\u001b[0m\n"
     ]
    },
    {
     "name": "stdin",
     "output_type": "stream",
     "text": [
      " B에 맞춤\n"
     ]
    },
    {
     "name": "stdout",
     "output_type": "stream",
     "text": [
      "\u001b[31mB 에 맞춤\u001b[0m\n",
      "\u001b[34m====================\u001b[0m\n",
      "\u001b[32many\u001b[0m\n"
     ]
    },
    {
     "name": "stdin",
     "output_type": "stream",
     "text": [
      " 단수 -> 단수, 복수 -> 복수\n"
     ]
    },
    {
     "name": "stdout",
     "output_type": "stream",
     "text": [
      "\u001b[31m단수 -> 단수, 복수 -> 복수\u001b[0m\n",
      "\u001b[34m====================\u001b[0m\n",
      "\u001b[32mevery\u001b[0m\n"
     ]
    },
    {
     "name": "stdin",
     "output_type": "stream",
     "text": [
      " 단수\n"
     ]
    },
    {
     "name": "stdout",
     "output_type": "stream",
     "text": [
      "\u001b[31m단수\u001b[0m\n",
      "\u001b[34m====================\u001b[0m\n",
      "\u001b[32mseveral\u001b[0m\n"
     ]
    },
    {
     "name": "stdin",
     "output_type": "stream",
     "text": [
      " 복수\n"
     ]
    },
    {
     "name": "stdout",
     "output_type": "stream",
     "text": [
      "\u001b[31m복수\u001b[0m\n",
      "\u001b[34m====================\u001b[0m\n",
      "\u001b[32mnone\u001b[0m\n"
     ]
    },
    {
     "name": "stdin",
     "output_type": "stream",
     "text": [
      " 단수 -> 단수, 복수 -> 복수\n"
     ]
    },
    {
     "name": "stdout",
     "output_type": "stream",
     "text": [
      "\u001b[31m단수 -> 단수, 복수 -> 복수\u001b[0m\n",
      "\u001b[34m====================\u001b[0m\n",
      "\u001b[32msome\u001b[0m\n"
     ]
    },
    {
     "name": "stdin",
     "output_type": "stream",
     "text": [
      " 복수\n"
     ]
    },
    {
     "name": "stdout",
     "output_type": "stream",
     "text": [
      "\u001b[31m단수 -> 단수, 복수 -> 복수\u001b[0m\n",
      "\u001b[34m====================\u001b[0m\n",
      "\u001b[32mmany\u001b[0m\n"
     ]
    },
    {
     "name": "stdin",
     "output_type": "stream",
     "text": [
      " 복수\n"
     ]
    },
    {
     "name": "stdout",
     "output_type": "stream",
     "text": [
      "\u001b[31m복수\u001b[0m\n",
      "\u001b[34m====================\u001b[0m\n",
      "\u001b[32mmost\u001b[0m\n"
     ]
    },
    {
     "name": "stdin",
     "output_type": "stream",
     "text": [
      " 단수 -> 단수, 복수 -> 복수\n"
     ]
    },
    {
     "name": "stdout",
     "output_type": "stream",
     "text": [
      "\u001b[31m단수 -> 단수, 복수 -> 복수\u001b[0m\n",
      "\u001b[34m====================\u001b[0m\n",
      "\u001b[32mall\u001b[0m\n"
     ]
    },
    {
     "name": "stdin",
     "output_type": "stream",
     "text": [
      " 단수 -> 단수, 복수 -> 복수\n"
     ]
    },
    {
     "name": "stdout",
     "output_type": "stream",
     "text": [
      "\u001b[31m단수 -> 단수, 복수 -> 복수\u001b[0m\n",
      "\u001b[34m====================\u001b[0m\n"
     ]
    }
   ],
   "source": [
    "keys = list(dic.keys())\n",
    "random.shuffle(keys)\n",
    "\n",
    "for k in keys:\n",
    "    v = dic[k]\n",
    "    print(colored(k, 'green'))\n",
    "    input()\n",
    "    print(colored(v, 'red'))\n",
    "    print(colored(\"=\"*20, 'blue'))\n",
    "\n",
    "print(\"Finish!!\")"
   ]
  },
  {
   "cell_type": "code",
   "execution_count": null,
   "id": "c589d009-4547-4642-98ed-494ff1529e41",
   "metadata": {},
   "outputs": [],
   "source": []
  }
 ],
 "metadata": {
  "kernelspec": {
   "display_name": "Python 3 (ipykernel)",
   "language": "python",
   "name": "python3"
  },
  "language_info": {
   "codemirror_mode": {
    "name": "ipython",
    "version": 3
   },
   "file_extension": ".py",
   "mimetype": "text/x-python",
   "name": "python",
   "nbconvert_exporter": "python",
   "pygments_lexer": "ipython3",
   "version": "3.8.13"
  }
 },
 "nbformat": 4,
 "nbformat_minor": 5
}
