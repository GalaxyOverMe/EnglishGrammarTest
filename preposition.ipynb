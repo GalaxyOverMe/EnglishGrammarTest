{
 "cells": [
  {
   "cell_type": "code",
   "execution_count": 1,
   "id": "7c448758-e90f-4e42-8804-e92b7a204f62",
   "metadata": {},
   "outputs": [
    {
     "name": "stdout",
     "output_type": "stream",
     "text": [
      "\u001b[31mhello\u001b[0m \u001b[32mworld\u001b[0m\n"
     ]
    }
   ],
   "source": [
    "from termcolor import colored\n",
    "\n",
    "print(colored('hello', 'red'), colored('world', 'green'))"
   ]
  },
  {
   "cell_type": "code",
   "execution_count": 22,
   "id": "92337636-a80a-415f-bc22-e44a568b6740",
   "metadata": {},
   "outputs": [],
   "source": [
    "problems = '''\n",
    "morning,\n",
    "afternoon,\n",
    "evening,\n",
    "June,\n",
    "summer\n",
    "2003,\n",
    "21st century,\n",
    "three days,\n",
    "London,\n",
    "China,\n",
    "Europe,\n",
    "house,\n",
    "school,\n",
    "11:20 p.m.,\n",
    "night,\n",
    "noon,\n",
    "midnight,\n",
    "55 Broadway,\n",
    "home,\n",
    "work,\n",
    "library,\n",
    "Monday,\n",
    "May 7,\n",
    "Christmas Day,\n",
    "Broadway,\n",
    "second floor\n",
    "train\n",
    "'''"
   ]
  },
  {
   "cell_type": "code",
   "execution_count": 23,
   "id": "a7b4d932-cf4b-4012-ba24-7e90e1b121b1",
   "metadata": {},
   "outputs": [],
   "source": [
    "answers = '''\n",
    "in the morning,\n",
    "in the afternoon,\n",
    "in the evening,\n",
    "in June,\n",
    "in summer\n",
    "in 2003,\n",
    "in 21st century,\n",
    "in three days,\n",
    "in London,\n",
    "in China,\n",
    "in Europe,\n",
    "in the house,\n",
    "in the school,\n",
    "at 11:20 p.m.,\n",
    "at night,\n",
    "at noon,\n",
    "at midnight,\n",
    "at 55 Broadway,\n",
    "at home,\n",
    "at work,\n",
    "at the library,\n",
    "on Monday,\n",
    "on May 7,\n",
    "on Christmas Day,\n",
    "on Broadway,\n",
    "on the second floor\n",
    "on a train\n",
    "'''"
   ]
  },
  {
   "cell_type": "code",
   "execution_count": 60,
   "id": "1d36e9c8-fb08-492c-9a18-45f5bfad81b6",
   "metadata": {},
   "outputs": [],
   "source": [
    "def no_line_break_input():\n",
    "    UserInput = input(\"Input a number :\")\n",
    "    Numbers = []\n",
    "    for index in range(int(UserInput)):\n",
    "        Numbers.append(input(\"Entry \" + str(index+1) + \" is \")) # change here\n",
    "    return Numbers\n",
    "    \n",
    "def preposition_test(problems, answers):\n",
    "    problems = problems.split(',')\n",
    "    answers  = answers.split(',')\n",
    "    \n",
    "    import random\n",
    "    seed = int(random.random() * 100)\n",
    "    random.Random(seed).shuffle(answers) # random function set seed as instance, # In-place\n",
    "    random.Random(seed).shuffle(problems)\n",
    "\n",
    "    for problem, answer in zip(problems, answers):  \n",
    "        problem = problem.strip('\\n')\n",
    "        answer  = answer.strip('\\n')\n",
    "        print(problem, end = '', flush = True)\n",
    "        input_ = input()\n",
    "        if input_ + ' ' + problem == answer:\n",
    "            print(colored(answer, 'green'))\n",
    "        else:\n",
    "            print(colored(answer, 'red'))\n",
    "        print(\"=\" * 20)\n"
   ]
  },
  {
   "cell_type": "code",
   "execution_count": null,
   "id": "ca7f1cbe-9052-429e-b8c2-0f860c176d12",
   "metadata": {},
   "outputs": [
    {
     "name": "stdout",
     "output_type": "stream",
     "text": [
      "library"
     ]
    },
    {
     "name": "stdin",
     "output_type": "stream",
     "text": [
      " at the\n"
     ]
    },
    {
     "name": "stdout",
     "output_type": "stream",
     "text": [
      "\u001b[32mat the library\u001b[0m\n",
      "====================\n",
      "June"
     ]
    },
    {
     "name": "stdin",
     "output_type": "stream",
     "text": [
      " in\n"
     ]
    },
    {
     "name": "stdout",
     "output_type": "stream",
     "text": [
      "\u001b[32min June\u001b[0m\n",
      "====================\n",
      "three days"
     ]
    },
    {
     "name": "stdin",
     "output_type": "stream",
     "text": [
      " in\n"
     ]
    },
    {
     "name": "stdout",
     "output_type": "stream",
     "text": [
      "\u001b[32min three days\u001b[0m\n",
      "====================\n",
      "work"
     ]
    },
    {
     "name": "stdin",
     "output_type": "stream",
     "text": [
      " at\n"
     ]
    },
    {
     "name": "stdout",
     "output_type": "stream",
     "text": [
      "\u001b[32mat work\u001b[0m\n",
      "====================\n",
      "May 7"
     ]
    },
    {
     "name": "stdin",
     "output_type": "stream",
     "text": [
      " in\n"
     ]
    },
    {
     "name": "stdout",
     "output_type": "stream",
     "text": [
      "\u001b[31mon May 7\u001b[0m\n",
      "====================\n",
      "21st century"
     ]
    },
    {
     "name": "stdin",
     "output_type": "stream",
     "text": [
      " at\n"
     ]
    },
    {
     "name": "stdout",
     "output_type": "stream",
     "text": [
      "\u001b[31min 21st century\u001b[0m\n",
      "====================\n",
      "London"
     ]
    }
   ],
   "source": [
    "preposition_test(problems, answers)"
   ]
  },
  {
   "cell_type": "code",
   "execution_count": null,
   "id": "1d7a62ff-4c25-43a4-b8e7-c1782c21bc2f",
   "metadata": {},
   "outputs": [],
   "source": []
  }
 ],
 "metadata": {
  "kernelspec": {
   "display_name": "Python 3 (ipykernel)",
   "language": "python",
   "name": "python3"
  },
  "language_info": {
   "codemirror_mode": {
    "name": "ipython",
    "version": 3
   },
   "file_extension": ".py",
   "mimetype": "text/x-python",
   "name": "python",
   "nbconvert_exporter": "python",
   "pygments_lexer": "ipython3",
   "version": "3.8.13"
  }
 },
 "nbformat": 4,
 "nbformat_minor": 5
}
