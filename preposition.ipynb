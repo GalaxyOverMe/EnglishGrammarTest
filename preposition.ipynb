{
 "cells": [
  {
   "cell_type": "code",
   "execution_count": 68,
   "id": "7c448758-e90f-4e42-8804-e92b7a204f62",
   "metadata": {},
   "outputs": [
    {
     "name": "stdout",
     "output_type": "stream",
     "text": [
      "\u001b[31mhello\u001b[0m \u001b[32mworld\u001b[0m\n"
     ]
    }
   ],
   "source": [
    "from termcolor import colored\n",
    "\n",
    "print(colored('hello', 'red'), colored('world', 'green'))"
   ]
  },
  {
   "cell_type": "code",
   "execution_count": 69,
   "id": "92337636-a80a-415f-bc22-e44a568b6740",
   "metadata": {},
   "outputs": [],
   "source": [
    "# problems = '''\n",
    "# morning,\n",
    "# afternoon,\n",
    "# evening,\n",
    "# June,\n",
    "# summer\n",
    "# 2003,\n",
    "# 21st century,\n",
    "# three days,\n",
    "# London,\n",
    "# China,\n",
    "# Europe,\n",
    "# house,\n",
    "# school,\n",
    "# 11:20 p.m.,\n",
    "# night,\n",
    "# noon,\n",
    "# midnight,\n",
    "# 55 Broadway,\n",
    "# home,\n",
    "# work,\n",
    "# library,\n",
    "# Monday,\n",
    "# May 7,\n",
    "# Christmas Day,\n",
    "# Broadway,\n",
    "# second floor,\n",
    "# train\n",
    "# '''"
   ]
  },
  {
   "cell_type": "code",
   "execution_count": 70,
   "id": "a7b4d932-cf4b-4012-ba24-7e90e1b121b1",
   "metadata": {},
   "outputs": [],
   "source": [
    "# answers = '''\n",
    "# in the morning,\n",
    "# in the afternoon,\n",
    "# in the evening,\n",
    "# in June,\n",
    "# in summer\n",
    "# in 2003,\n",
    "# in 21st century,\n",
    "# in three days,\n",
    "# in London,\n",
    "# in China,\n",
    "# in Europe,\n",
    "# in the house,\n",
    "# in the school,\n",
    "# at 11:20 p.m.,\n",
    "# at night,\n",
    "# at noon,\n",
    "# at midnight,\n",
    "# at 55 Broadway,\n",
    "# at home,\n",
    "# at work,\n",
    "# at the library,\n",
    "# on Monday,\n",
    "# on May 7,\n",
    "# on Christmas Day,\n",
    "# on Broadway,\n",
    "# on the second floor,\n",
    "# on a train\n",
    "# '''"
   ]
  },
  {
   "cell_type": "code",
   "execution_count": 82,
   "id": "70284ed1-09ac-4700-99b4-212440cfcae5",
   "metadata": {},
   "outputs": [],
   "source": [
    "problems = '''\n",
    "morning,\n",
    "afternoon,\n",
    "evening,\n",
    "'''\n",
    "\n",
    "answers = '''\n",
    "in the morning,\n",
    "in the afternoon,\n",
    "in the evening,\n",
    "'''"
   ]
  },
  {
   "cell_type": "code",
   "execution_count": 97,
   "id": "11a19bfa-914e-4064-8b83-a540370bf81c",
   "metadata": {},
   "outputs": [
    {
     "data": {
      "text/plain": [
       "['\\nmorning', '\\nafternoon', '\\nevening', '\\n']"
      ]
     },
     "execution_count": 97,
     "metadata": {},
     "output_type": "execute_result"
    }
   ],
   "source": [
    "problems.split(',')"
   ]
  },
  {
   "cell_type": "code",
   "execution_count": 104,
   "id": "1d36e9c8-fb08-492c-9a18-45f5bfad81b6",
   "metadata": {},
   "outputs": [],
   "source": [
    "def preposition_test(problems, answers, mode = 0):\n",
    "    '''\n",
    "    mode =  0 : test all problem 1 time.\n",
    "            1 : test all problem until all problems corrects.\n",
    "    '''\n",
    "    problems = problems.split(',')[:-1] # '' list's last index is vacant\n",
    "    answers  = answers.split(',')[:-1]  # '' list's last index is vacant\n",
    "    \n",
    "    problems = [problem.strip('\\n') for problem in problems]\n",
    "    answers  = [answer.strip('\\n')  for answer in answers]\n",
    "    \n",
    "    import random\n",
    "    seed = int(random.random() * 100)\n",
    "    random.Random(seed).shuffle(answers) # random function set seed as instance, # In-place\n",
    "    random.Random(seed).shuffle(problems)\n",
    "\n",
    "    if mode == 0:\n",
    "        for problem, answer in zip(problems, answers):  \n",
    "            print(problem, end = '', flush = True)\n",
    "            input_ = input()\n",
    "            if input_ + ' ' + problem == answer:\n",
    "                print(colored(answer, 'green'))\n",
    "            else:\n",
    "                print(colored(answer, 'red'))\n",
    "            print(\"=\" * 20)\n",
    "\n",
    "    if mode == 1:\n",
    "        problems_copy = problems\n",
    "        answers_copy  = answers\n",
    "        while problems != []:\n",
    "            problems = problems_copy\n",
    "            answers  = answers_copy\n",
    "            for problem, answer in zip(problems, answers):  \n",
    "                print(problem, end = '', flush = True)\n",
    "                input_ = input()\n",
    "                if input_ + ' ' + problem == answer:\n",
    "                    print(colored(answer, 'green'))\n",
    "                    problems_copy.remove(problem)\n",
    "                    answers_copy.remove(answer)\n",
    "\n",
    "                else:\n",
    "                    print(colored(answer, 'red'))\n",
    "                print(\"=\" * 20)\n",
    "                \n",
    "        print(colored(\"=\"*40, 'green'))\n",
    "        print(colored(\"You solves all problems correct!\", 'green'))\n",
    "        print(colored(\"=\"*40, 'green'))"
   ]
  },
  {
   "cell_type": "code",
   "execution_count": 105,
   "id": "ca7f1cbe-9052-429e-b8c2-0f860c176d12",
   "metadata": {},
   "outputs": [
    {
     "name": "stdout",
     "output_type": "stream",
     "text": [
      "evening"
     ]
    },
    {
     "name": "stdin",
     "output_type": "stream",
     "text": [
      " in the\n"
     ]
    },
    {
     "name": "stdout",
     "output_type": "stream",
     "text": [
      "\u001b[32min the evening\u001b[0m\n",
      "====================\n",
      "morning"
     ]
    },
    {
     "name": "stdin",
     "output_type": "stream",
     "text": [
      " in the\n"
     ]
    },
    {
     "name": "stdout",
     "output_type": "stream",
     "text": [
      "\u001b[32min the morning\u001b[0m\n",
      "====================\n",
      "afternoon"
     ]
    },
    {
     "name": "stdin",
     "output_type": "stream",
     "text": [
      " at\n"
     ]
    },
    {
     "name": "stdout",
     "output_type": "stream",
     "text": [
      "\u001b[31min the afternoon\u001b[0m\n",
      "====================\n",
      "afternoon"
     ]
    },
    {
     "name": "stdin",
     "output_type": "stream",
     "text": [
      " in the\n"
     ]
    },
    {
     "name": "stdout",
     "output_type": "stream",
     "text": [
      "\u001b[32min the afternoon\u001b[0m\n",
      "====================\n",
      "\u001b[32m========================================\u001b[0m\n",
      "\u001b[32mYou solves all problems correct!\u001b[0m\n",
      "\u001b[32m========================================\u001b[0m\n"
     ]
    }
   ],
   "source": [
    "preposition_test(problems, answers, 1)"
   ]
  },
  {
   "cell_type": "code",
   "execution_count": null,
   "id": "1d7a62ff-4c25-43a4-b8e7-c1782c21bc2f",
   "metadata": {},
   "outputs": [],
   "source": [
    "\n",
    "\n",
    "\n",
    "\n",
    "\n",
    "\n",
    "\n",
    "\n",
    "\n",
    "\n",
    "\n",
    "\n",
    "\n",
    "\n",
    "\n",
    "\n",
    "\n",
    "\n",
    "\n",
    "\n",
    "\n",
    "\n",
    "\n",
    "\n",
    "\n",
    "\n"
   ]
  }
 ],
 "metadata": {
  "kernelspec": {
   "display_name": "Python 3 (ipykernel)",
   "language": "python",
   "name": "python3"
  },
  "language_info": {
   "codemirror_mode": {
    "name": "ipython",
    "version": 3
   },
   "file_extension": ".py",
   "mimetype": "text/x-python",
   "name": "python",
   "nbconvert_exporter": "python",
   "pygments_lexer": "ipython3",
   "version": "3.8.13"
  }
 },
 "nbformat": 4,
 "nbformat_minor": 5
}
